{
 "cells": [
  {
   "cell_type": "code",
   "execution_count": null,
   "metadata": {},
   "outputs": [],
   "source": [
    "from pathlib import Path\n",
    "\n",
    "import matplotlib.pyplot as plt\n",
    "import numpy as np\n",
    "import pandas as pd\n",
    "import torch\n",
    "from matplotlib.axes import Axes\n",
    "from matplotlib.figure import Figure\n",
    "\n",
    "import utilities_plot as up\n",
    "import utilities_latent as ul\n",
    "from utilities_base import VAE, load_data"
   ]
  },
  {
   "cell_type": "code",
   "execution_count": null,
   "metadata": {},
   "outputs": [],
   "source": [
    "data, data_id_dict, child_id_dict, word_dict, category_dict = load_data(\n",
    "    [\"data\", \"data_id_dict\", \"child_id_dict\", \"word_dict\", \"category_dict\"]\n",
    ")\n",
    "word_count = len(word_dict)\n",
    "\n",
    "\n",
    "model = VAE().to(\"cuda\")\n",
    "model.eval()\n",
    "model.load_state_dict(torch.load(\"tmp/best_model.pth\"))\n",
    "# model.load_state_dict(torch.load(\"tmp/model_state_dict.pth\"))\n",
    "\n",
    "figs = {}"
   ]
  },
  {
   "cell_type": "code",
   "execution_count": null,
   "metadata": {},
   "outputs": [],
   "source": [
    "# 潜在空間を動く点Zsを指定\n",
    "\n",
    "x1, x2 = 2, 2\n",
    "y1, y2 = 2, -3\n",
    "n = 50\n",
    "Xs = np.linspace(x1, x2, n)\n",
    "Ys = np.linspace(y1, y2, n)\n",
    "Zs = np.stack((Xs, Ys), axis=1)\n",
    "\n",
    "# 潜在空間を動く点Z1s, Z2sを指定\n",
    "X1s = np.linspace(0, 0, n)\n",
    "Y1s = np.linspace(2, -3, n)\n",
    "Z1s = np.stack((X1s, Y1s), axis=1)\n",
    "X2s = np.ones(n) * 2\n",
    "Y2s = np.ones(n) * 0\n",
    "Z2s = np.stack((X2s, Y2s), axis=1)"
   ]
  },
  {
   "cell_type": "code",
   "execution_count": null,
   "metadata": {},
   "outputs": [],
   "source": [
    "# 点Zsにおけるのカテゴリーごとの期待値を計算しプロット\n",
    "# そのときのZsの位置もプロット\n",
    "# gifファイル作成に備えて保存\n",
    "\n",
    "ul.save_expectation_plot_with_category(model, Zs, Path(\"images/tmp/\"))\n",
    "ul.save_zs_plot(model, Zs, Path(\"images/tmp/\"))"
   ]
  },
  {
   "cell_type": "code",
   "execution_count": null,
   "metadata": {},
   "outputs": [],
   "source": [
    "# Z1s, Z2sの期待値の差をカテゴリーごとにプロット\n",
    "# そのときのZ1s, Z2sの位置もプロット\n",
    "# gifファイル作成に備えて保存\n",
    "\n",
    "ul.save_expectation_diff_plot_with_category(model, Z1s, Z2s, \"A\", \"B\", Path(\"images/tmp/\"))\n",
    "ul.save_zs_diff_plot(model, Z1s, Z2s, \"A\", \"B\", Path(\"images/tmp/\"))"
   ]
  },
  {
   "cell_type": "code",
   "execution_count": null,
   "metadata": {},
   "outputs": [],
   "source": [
    "# gifにするファイルを選択\n",
    "\n",
    "image_expectation_dirs1 = [f\"images/tmp/expectation_{i}.png\" for i in range(n)]\n",
    "image_expectation_dirs2 = [f\"images/tmp/point_{i}.png\" for i in range(n)]\n",
    "# gifにして保存\n",
    "\n",
    "ul.make_combined_gif(\n",
    "    image_expectation_dirs1, image_expectation_dirs2, Path(\"images/gif/expectation.gif\")\n",
    ")\n",
    "\n",
    "# gifにするファイルを選択\n",
    "image_diff_dirs1 = [f\"images/tmp/expectation_diff_{i}.png\" for i in range(n)]\n",
    "image_diff_dirs2 = [f\"images/tmp/point_diff_{i}.png\" for i in range(n)]\n",
    "\n",
    "# gifにして保存\n",
    "ul.make_combined_gif(\n",
    "    image_diff_dirs1, image_diff_dirs2, Path(\"images/gif/diff.gif\")\n",
    ")"
   ]
  },
  {
   "cell_type": "code",
   "execution_count": null,
   "metadata": {},
   "outputs": [],
   "source": [
    "# アルファベットとカテゴリーの対応関係\n",
    "df_category = pd.DataFrame(\n",
    "    {\"category\": list(category_dict.keys())}, index=[chr(65 + i) for i in range(22)]\n",
    ")\n",
    "df_category"
   ]
  },
  {
   "cell_type": "code",
   "execution_count": null,
   "metadata": {},
   "outputs": [],
   "source": []
  }
 ],
 "metadata": {
  "kernelspec": {
   "display_name": "pytorch",
   "language": "python",
   "name": "python3"
  },
  "language_info": {
   "codemirror_mode": {
    "name": "ipython",
    "version": 3
   },
   "file_extension": ".py",
   "mimetype": "text/x-python",
   "name": "python",
   "nbconvert_exporter": "python",
   "pygments_lexer": "ipython3",
   "version": "3.12.2"
  }
 },
 "nbformat": 4,
 "nbformat_minor": 2
}
