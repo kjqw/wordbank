{
 "cells": [
  {
   "cell_type": "code",
   "execution_count": null,
   "metadata": {},
   "outputs": [],
   "source": [
    "from pathlib import Path\n",
    "\n",
    "import matplotlib.pyplot as plt\n",
    "import numpy as np\n",
    "import pandas as pd\n",
    "import torch\n",
    "\n",
    "import utilities_plot as up\n",
    "import utilities_latent as ul\n",
    "from utilities_base import VAE, load_data"
   ]
  },
  {
   "cell_type": "code",
   "execution_count": null,
   "metadata": {},
   "outputs": [],
   "source": [
    "data, data_id_dict, child_id_dict, word_dict, category_dict = load_data(\n",
    "    [\"data\", \"data_id_dict\", \"child_id_dict\", \"word_dict\", \"category_dict\"]\n",
    ")\n",
    "word_count = len(word_dict)\n",
    "\n",
    "\n",
    "model = VAE().to(\"cuda\")\n",
    "model.eval()\n",
    "model.load_state_dict(torch.load(\"tmp/best_model.pth\"))\n",
    "# model.load_state_dict(torch.load(\"tmp/model_state_dict.pth\"))"
   ]
  },
  {
   "cell_type": "code",
   "execution_count": null,
   "metadata": {},
   "outputs": [],
   "source": [
    "# スプライン補完のための点群を指定\n",
    "\n",
    "xy = [\n",
    "    (2, 2.5),\n",
    "    (-1, 2),\n",
    "    (2, 1.5),\n",
    "    (-2, 1),\n",
    "    (2, 0.5),\n",
    "    (-3, 0),\n",
    "    (2, -0.5),\n",
    "    (-2, -1),\n",
    "    (2, -1.5),\n",
    "    (-1, -2),\n",
    "    (2, -2.5),\n",
    "    (5, 0),\n",
    "    (2, 2.5),\n",
    "]\n",
    "\n",
    "n = 200\n",
    "Zs = ul.spline_interpolation(xy, n)"
   ]
  },
  {
   "cell_type": "code",
   "execution_count": null,
   "metadata": {},
   "outputs": [],
   "source": [
    "# どのように補完されたかをプロット\n",
    "\n",
    "figs = {}\n",
    "figs[\"tmp\"] = plt.subplots()\n",
    "fig, ax = figs[\"tmp\"]\n",
    "up.plot_x(model, data, ax)\n",
    "ax.plot(Zs[:, 0], Zs[:, 1], color=\"tab:orange\", linestyle=\"--\")\n",
    "ax.legend()"
   ]
  },
  {
   "cell_type": "code",
   "execution_count": null,
   "metadata": {},
   "outputs": [],
   "source": [
    "# ファイル名の設定\n",
    "tmp_image_folder = Path(\"images/tmp\")\n",
    "tmp_expectation_image_name = \"expectation\"\n",
    "tmp_point_image_name = \"point\"\n",
    "output_gif_path = Path(\"images/gif/expectation.gif\")\n",
    "\n",
    "# gifにするファイルを選択\n",
    "image_expectation_dirs1 = [\n",
    "    str(tmp_image_folder / tmp_expectation_image_name) + f\"_{i}.png\" for i in range(n)\n",
    "]\n",
    "image_expectation_dirs2 = [\n",
    "    str(tmp_image_folder / tmp_point_image_name) + f\"_{i}.png\" for i in range(n)\n",
    "]"
   ]
  },
  {
   "cell_type": "code",
   "execution_count": null,
   "metadata": {},
   "outputs": [],
   "source": [
    "# 点Zsにおけるのカテゴリーごとの期待値を計算しプロット\n",
    "# そのときのZsの位置もプロット\n",
    "# gifファイル作成に備えて保存\n",
    "\n",
    "ul.save_expectation_plot_with_category(\n",
    "    model, Zs, tmp_image_folder, tmp_expectation_image_name\n",
    ")\n",
    "ul.save_zs_plot(model, Zs, tmp_image_folder, tmp_point_image_name)"
   ]
  },
  {
   "cell_type": "code",
   "execution_count": null,
   "metadata": {},
   "outputs": [],
   "source": [
    "# gifにして保存\n",
    "ul.make_combined_gif(image_expectation_dirs1, image_expectation_dirs2, output_gif_path)"
   ]
  },
  {
   "cell_type": "code",
   "execution_count": null,
   "metadata": {},
   "outputs": [],
   "source": [
    "# スプライン補完のための点群を指定\n",
    "\n",
    "xy1 = [(0, 2), (-2, 0), (0, -2), (-3, 0), (0, 2)]\n",
    "xy2 = [(2, 1),(1, 0), (2, -1), (2, 0), (2, 1)]\n",
    "\n",
    "n = 50\n",
    "Zs1 = ul.spline_interpolation(xy1, n)\n",
    "Zs2 = ul.spline_interpolation(xy2, n)"
   ]
  },
  {
   "cell_type": "code",
   "execution_count": null,
   "metadata": {},
   "outputs": [],
   "source": [
    "# どのように補完されたかをプロット\n",
    "\n",
    "figs = {}\n",
    "figs[\"tmp\"] = plt.subplots()\n",
    "fig, ax = figs[\"tmp\"]\n",
    "xy1 = np.array(xy1)\n",
    "xy2 = np.array(xy2)\n",
    "up.plot_x(model, data, ax)\n",
    "ax.plot(Zs1[:, 0], Zs1[:, 1], color=\"tab:orange\", linestyle=\"--\", label=\"spline1\")\n",
    "ax.plot(Zs2[:, 0], Zs2[:, 1], color=\"tab:green\", linestyle=\"--\", label=\"spline2\")\n",
    "ax.scatter(xy1[:, 0], xy1[:, 1], color=\"tab:orange\", label=\"spline refs1\")\n",
    "ax.scatter(xy2[:, 0], xy2[:, 1], color=\"tab:green\", label=\"spline refs2\")\n",
    "ax.legend()"
   ]
  },
  {
   "cell_type": "code",
   "execution_count": null,
   "metadata": {},
   "outputs": [],
   "source": [
    "# ファイル名の設定\n",
    "tmp_image_folder = Path(\"images/tmp\")\n",
    "tmp_expectation_diff_image_name = \"expectation_diff\"\n",
    "tmp_point_diff_image_name = \"point_diff\"\n",
    "output_gif_diff_path = Path(\"images/gif/diff.gif\")\n",
    "\n",
    "# gifにするファイルを選択\n",
    "image_expectation_diff_dirs1 = [\n",
    "    str(tmp_image_folder / tmp_expectation_diff_image_name) + f\"_{i}.png\" for i in range(n)\n",
    "]\n",
    "image_expectation_diff_dirs2 = [\n",
    "    str(tmp_image_folder / tmp_point_diff_image_name) + f\"_{i}.png\" for i in range(n)\n",
    "]"
   ]
  },
  {
   "cell_type": "code",
   "execution_count": null,
   "metadata": {},
   "outputs": [],
   "source": [
    "# 点Zsにおけるのカテゴリーごとの期待値を計算しプロット\n",
    "# そのときのZsの位置もプロット\n",
    "# gifファイル作成に備えて保存\n",
    "\n",
    "ul.save_expectation_diff_plot_with_category(\n",
    "    model, Zs1, Zs2, \"A\", \"B\", tmp_image_folder, tmp_expectation_diff_image_name\n",
    ")\n",
    "ul.save_zs_diff_plot(model, Zs1, Zs2, \"A\", \"B\", tmp_image_folder, tmp_point_diff_image_name)"
   ]
  },
  {
   "cell_type": "code",
   "execution_count": null,
   "metadata": {},
   "outputs": [],
   "source": [
    "# gifにして保存\n",
    "ul.make_combined_gif(\n",
    "    image_expectation_diff_dirs1, image_expectation_diff_dirs2, output_gif_diff_path\n",
    ")"
   ]
  },
  {
   "cell_type": "code",
   "execution_count": null,
   "metadata": {},
   "outputs": [],
   "source": [
    "# アルファベットとカテゴリーの対応関係\n",
    "df_category = pd.DataFrame(\n",
    "    {\"category\": list(category_dict.keys())}, index=[chr(65 + i) for i in range(22)]\n",
    ")\n",
    "df_category"
   ]
  },
  {
   "cell_type": "code",
   "execution_count": null,
   "metadata": {},
   "outputs": [],
   "source": []
  }
 ],
 "metadata": {
  "kernelspec": {
   "display_name": "pytorch",
   "language": "python",
   "name": "python3"
  },
  "language_info": {
   "codemirror_mode": {
    "name": "ipython",
    "version": 3
   },
   "file_extension": ".py",
   "mimetype": "text/x-python",
   "name": "python",
   "nbconvert_exporter": "python",
   "pygments_lexer": "ipython3",
   "version": "3.12.2"
  }
 },
 "nbformat": 4,
 "nbformat_minor": 2
}
