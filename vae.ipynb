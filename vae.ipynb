{
 "cells": [
  {
   "cell_type": "code",
   "execution_count": null,
   "metadata": {},
   "outputs": [],
   "source": [
    "import numpy as np\n",
    "import torch\n",
    "from torch import optim\n",
    "from torch.utils.data import DataLoader, TensorDataset\n",
    "\n",
    "from utilities_base import *"
   ]
  },
  {
   "cell_type": "code",
   "execution_count": null,
   "metadata": {},
   "outputs": [],
   "source": [
    "# データを読み込む\n",
    "data = load_data([\"data\"])[0]\n",
    "\n",
    "device = torch.device(\"cuda\" if torch.cuda.is_available() else \"cpu\")\n",
    "\n",
    "# データをTensorに変換し、データローダーを準備\n",
    "tensor_data = torch.tensor(data.astype(np.float32))  # PyTorchはfloat32を使用\n",
    "dataset = TensorDataset(tensor_data)\n",
    "data_loader = DataLoader(dataset, batch_size=64, shuffle=True)"
   ]
  },
  {
   "cell_type": "code",
   "execution_count": null,
   "metadata": {},
   "outputs": [],
   "source": [
    "# model = VAE().to(device)\n",
    "# optimizer = optim.Adam(model.parameters())\n",
    "\n",
    "# epochs = 20\n",
    "\n",
    "# for epoch in range(epochs):\n",
    "#     print(f\"Epoch {epoch+1}\")\n",
    "#     train(model, data_loader, optimizer)"
   ]
  },
  {
   "cell_type": "code",
   "execution_count": null,
   "metadata": {},
   "outputs": [],
   "source": [
    "# torch.save(model.state_dict(), 'tmp/model_state_dict.pth')"
   ]
  },
  {
   "cell_type": "code",
   "execution_count": null,
   "metadata": {},
   "outputs": [],
   "source": [
    "trials = 10\n",
    "epochs = 30\n",
    "best_loss = float(\"inf\")\n",
    "best_model_state = None\n",
    "for trial in range(trials):\n",
    "    model = VAE().to(device)\n",
    "    optimizer = optim.Adam(model.parameters())\n",
    "    for epoch in range(epochs):\n",
    "        average_loss = train(model, data_loader, optimizer)\n",
    "        print(\n",
    "            f\"Trial {trial+1}/{trials}: Epoch {epoch+1}: Average Loss: {average_loss:.4f}\"\n",
    "        )\n",
    "        if average_loss < best_loss:\n",
    "            best_loss = average_loss\n",
    "            best_model_state = model.state_dict()\n",
    "\n",
    "\n",
    "torch.save(best_model_state, \"tmp/best_model.pth\")\n",
    "print(f\"Training completed. The model with the minimum loss:{best_loss:.4f} was saved.\")"
   ]
  },
  {
   "cell_type": "code",
   "execution_count": null,
   "metadata": {},
   "outputs": [],
   "source": []
  }
 ],
 "metadata": {
  "kernelspec": {
   "display_name": "pytorch",
   "language": "python",
   "name": "python3"
  },
  "language_info": {
   "codemirror_mode": {
    "name": "ipython",
    "version": 3
   },
   "file_extension": ".py",
   "mimetype": "text/x-python",
   "name": "python",
   "nbconvert_exporter": "python",
   "pygments_lexer": "ipython3",
   "version": "3.12.2"
  }
 },
 "nbformat": 4,
 "nbformat_minor": 2
}
