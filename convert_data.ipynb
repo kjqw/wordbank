{
 "cells": [
  {
   "cell_type": "code",
   "execution_count": null,
   "metadata": {},
   "outputs": [],
   "source": [
    "import pickle\n",
    "from collections import defaultdict\n",
    "from pathlib import Path\n",
    "\n",
    "import numpy as np\n",
    "import pandas as pd\n",
    "\n",
    "df = pd.read_csv(\"data/wordbank_instrument_data.csv\")\n",
    "df"
   ]
  },
  {
   "cell_type": "code",
   "execution_count": null,
   "metadata": {},
   "outputs": [],
   "source": [
    "# item_kindがwordのものだけを抽出\n",
    "# valueを文字列から数字に置き換える\n",
    "\n",
    "df_word = df[df[\"item_kind\"] == \"word\"]\n",
    "df_word = df_word.replace({\"value\": {\"produces\": 1, \"understands\": 1}})\n",
    "# df_word = df_word.replace({\"value\": {\"understands\": 0}})\n",
    "df_word = df_word.fillna({\"value\": 0})\n",
    "df_word = df_word.reset_index(drop=True)\n",
    "df_word"
   ]
  },
  {
   "cell_type": "code",
   "execution_count": null,
   "metadata": {},
   "outputs": [],
   "source": [
    "word_count = 680\n",
    "df_category = df_word[:word_count][[\"category\", \"item_id\", \"item_definition\"]]\n",
    "# df_category[\"category\"].value_counts()\n",
    "\n",
    "word_dict = defaultdict(list)\n",
    "category_dict = defaultdict(list)\n",
    "for category, item_id, item_definition in zip(\n",
    "    df_category[\"category\"], df_category[\"item_id\"], df_category[\"item_definition\"]\n",
    "):\n",
    "    word_dict[int(item_id[5:]) - 1] = (category, item_definition)\n",
    "    category_dict[category].append((int(item_id[5:]) - 1, item_definition))\n",
    "word_dict = dict(word_dict)\n",
    "category_dict = dict(category_dict)"
   ]
  },
  {
   "cell_type": "code",
   "execution_count": null,
   "metadata": {},
   "outputs": [],
   "source": [
    "print(word_dict)  # {VAEの入力ノードの何番目か(0-index): (category, item_definition), }\n",
    "print(\n",
    "    category_dict\n",
    ")  # {category: [(VAEの入力ノードの何番目か(0-index), item_definition), ], }"
   ]
  },
  {
   "cell_type": "code",
   "execution_count": null,
   "metadata": {},
   "outputs": [],
   "source": [
    "word_count = 680\n",
    "group_number = np.arange(len(df_word)) // word_count\n",
    "correct_item_ids = [f\"item_{i+1}\" for i in range(word_count)]\n",
    "\n",
    "data_tmp = []\n",
    "data_id_dict = {}\n",
    "child_id_dict = defaultdict(list)\n",
    "for i, group in df_word.groupby(group_number):\n",
    "    if (group[\"child_id\"] == group.iat[0, 8]).all() and (\n",
    "        group[\"item_id\"] == correct_item_ids\n",
    "    ).all():\n",
    "        vocabulary = group[\"value\"].to_numpy(dtype=np.float32)\n",
    "        data_id_dict[i] = (\n",
    "            group.iat[0, 8],\n",
    "            group.iat[0, 9],\n",
    "            vocabulary.sum(),\n",
    "        )\n",
    "        child_id_dict[(group.iat[0, 8])].append((i, group.iat[0, 9], vocabulary.sum()))\n",
    "\n",
    "        data_tmp.append(vocabulary)\n",
    "\n",
    "data = np.array(data_tmp)\n",
    "child_id_dict = dict(child_id_dict)"
   ]
  },
  {
   "cell_type": "code",
   "execution_count": null,
   "metadata": {},
   "outputs": [],
   "source": [
    "print(data_id_dict) # {data_id: (child_id, age, vocabulary), }\n",
    "print(child_id_dict) # {child_id: [(data_id, age, vocabulary), (data_id, age, vocabulary), ], }\n",
    "for key, val in child_id_dict.items():\n",
    "    if len(val) >= 2:\n",
    "        print(key, val)"
   ]
  },
  {
   "cell_type": "code",
   "execution_count": null,
   "metadata": {},
   "outputs": [],
   "source": [
    "print(data)\n",
    "print(data.shape)"
   ]
  },
  {
   "cell_type": "code",
   "execution_count": 4,
   "metadata": {},
   "outputs": [],
   "source": [
    "# .gitignoreで認識されていないフォルダを作成\n",
    "\n",
    "paths = [\"data/\", \"images/\", \"tmp/\", \"images/gif\", \"images/tmp\", \"images/vocabulary\"]\n",
    "for path in paths:\n",
    "    Path(path).mkdir(exist_ok=True)"
   ]
  },
  {
   "cell_type": "code",
   "execution_count": null,
   "metadata": {},
   "outputs": [],
   "source": [
    "# 変数を保存\n",
    "with open(\"tmp/data.pkl\", \"wb\") as f:\n",
    "    pickle.dump(data, f)\n",
    "with open(\"tmp/data_id_dict.pkl\", \"wb\") as f:\n",
    "    pickle.dump(data_id_dict, f)\n",
    "with open(\"tmp/child_id_dict.pkl\", \"wb\") as f:\n",
    "    pickle.dump(child_id_dict, f)\n",
    "with open(\"tmp/word_dict.pkl\", \"wb\") as f:\n",
    "    pickle.dump(word_dict, f)\n",
    "with open(\"tmp/category_dict.pkl\", \"wb\") as f:\n",
    "    pickle.dump(category_dict, f)"
   ]
  },
  {
   "cell_type": "code",
   "execution_count": null,
   "metadata": {},
   "outputs": [],
   "source": []
  }
 ],
 "metadata": {
  "kernelspec": {
   "display_name": "pytorch",
   "language": "python",
   "name": "python3"
  },
  "language_info": {
   "codemirror_mode": {
    "name": "ipython",
    "version": 3
   },
   "file_extension": ".py",
   "mimetype": "text/x-python",
   "name": "python",
   "nbconvert_exporter": "python",
   "pygments_lexer": "ipython3",
   "version": "3.12.2"
  }
 },
 "nbformat": 4,
 "nbformat_minor": 2
}
