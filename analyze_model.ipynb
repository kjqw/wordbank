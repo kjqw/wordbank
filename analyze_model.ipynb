{
 "cells": [
  {
   "cell_type": "code",
   "execution_count": null,
   "metadata": {},
   "outputs": [],
   "source": [
    "import pickle\n",
    "\n",
    "import matplotlib.pyplot as plt\n",
    "import numpy as np\n",
    "import torch\n",
    "from matplotlib.axes import Axes\n",
    "from matplotlib.figure import Figure\n",
    "from torch import nn, optim\n",
    "from torch.utils.data import DataLoader, TensorDataset\n",
    "\n",
    "import utilities_plot as up\n",
    "from utilities_model import VAE"
   ]
  },
  {
   "cell_type": "code",
   "execution_count": null,
   "metadata": {},
   "outputs": [],
   "source": [
    "with open(\"tmp/data.pkl\", \"rb\") as f:\n",
    "    data = pickle.load(f)\n",
    "with open(\"tmp/data_id_dict.pkl\", \"rb\") as f:\n",
    "    data_id_dict = pickle.load(f)\n",
    "with open(\"tmp/child_id_dict.pkl\", \"rb\") as f:\n",
    "    child_id_dict = pickle.load(f)\n",
    "with open(\"tmp/word_dict.pkl\", \"rb\") as f:\n",
    "    word_dict = pickle.load(f)\n",
    "with open(\"tmp/category_dict.pkl\", \"rb\") as f:\n",
    "    category_dict = pickle.load(f)\n",
    "\n",
    "tensor_data = torch.tensor(data.astype(np.float32))\n",
    "dataset = TensorDataset(tensor_data)\n",
    "data_loader = DataLoader(dataset, batch_size=64)\n",
    "\n",
    "model = VAE().to(\"cuda\")\n",
    "model.load_state_dict(torch.load(\"tmp/best_model.pth\"))\n",
    "# model.load_state_dict(torch.load(\"tmp/model_state_dict.pth\"))\n",
    "\n",
    "word_count = len(word_dict)"
   ]
  },
  {
   "cell_type": "code",
   "execution_count": null,
   "metadata": {},
   "outputs": [],
   "source": [
    "print(data)\n",
    "print(data.shape)"
   ]
  },
  {
   "cell_type": "code",
   "execution_count": null,
   "metadata": {},
   "outputs": [],
   "source": [
    "for key, val in category_dict.items():\n",
    "    print(key, len(val))"
   ]
  },
  {
   "cell_type": "code",
   "execution_count": null,
   "metadata": {},
   "outputs": [],
   "source": [
    "figs = {}\n",
    "figs[\"age\"] = plt.subplots()\n",
    "figs[\"vocabulary\"] = plt.subplots()\n",
    "\n",
    "data_ids = list(data_id_dict.keys())\n",
    "up.plot_x_with_age(model, data_ids, *figs[\"age\"])\n",
    "up.plot_x_with_vocabulary(model, data_ids, *figs[\"vocabulary\"], [\"locations\"])"
   ]
  },
  {
   "cell_type": "code",
   "execution_count": null,
   "metadata": {},
   "outputs": [],
   "source": [
    "z1_start, z1_end = -6, 7\n",
    "z2_start, z2_end = -3, 3\n",
    "spacing = 0.1\n",
    "\n",
    "z_meshgrid = up.make_lattice_points(z1_start, z1_end, z2_start, z2_end, spacing)\n",
    "for category in category_dict.keys():\n",
    "    figs[category] = plt.subplots()\n",
    "    up.plot_vocabulary(model, z_meshgrid, *figs[category], [category])\n",
    "    up.plot_x(model, data, figs[category][1], \"tab:blue\")\n",
    "    figs[category][0].savefig(f\"images/vocabulary/{category}_vocabulary.png\")"
   ]
  },
  {
   "cell_type": "code",
   "execution_count": null,
   "metadata": {},
   "outputs": [],
   "source": [
    "import random\n",
    "\n",
    "figs[\"arrow\"] = plt.subplots()\n",
    "up.plot_x(model, data, figs[\"arrow\"][1])\n",
    "data_ids = []\n",
    "for i, v in child_id_dict.items():\n",
    "    if len(v) >= 2:\n",
    "        data_ids.append([j[0] for j in v])\n",
    "print(len(data_ids))\n",
    "n = 1\n",
    "datas = random.sample(data_ids, n)\n",
    "child_id = data_id_dict[datas[0][0]][0]\n",
    "print(child_id_dict[child_id])\n",
    "for i in datas:\n",
    "    up.plot_arrow(model, i, figs[\"arrow\"][1])"
   ]
  },
  {
   "cell_type": "code",
   "execution_count": null,
   "metadata": {},
   "outputs": [],
   "source": [
    "from matplotlib.patches import Circle\n",
    "\n",
    "\n",
    "def make_circle(r: float, fig: Figure, ax: Axes) -> None:\n",
    "    all_0s = np.zeros((1, 680))\n",
    "    z0 = up.x_to_z(model, all_0s).flatten()\n",
    "    all_1s = np.ones((1, 680))\n",
    "    z1 = up.x_to_z(model, all_1s).flatten()\n",
    "    mid = (z0 + z1) / 2\n",
    "    # 2点間の距離\n",
    "    d = np.linalg.norm(z1 - z0)\n",
    "\n",
    "    # 2点間の中心からの距離\n",
    "    h = np.sqrt(r**2 - (d / 2) ** 2)\n",
    "\n",
    "    # 中心点を見つけるための単位ベクトルの計算\n",
    "    vec = z1 - z0\n",
    "    vec_perp = np.array([-vec[1], vec[0]])\n",
    "    unit_vec_perp = vec_perp / np.linalg.norm(vec_perp)\n",
    "\n",
    "    # 中心点Cの計算\n",
    "    C1 = mid + h * unit_vec_perp\n",
    "    C2 = mid - h * unit_vec_perp\n",
    "\n",
    "    # 円を描く\n",
    "    circle1 = Circle(C1, r, fill=False, color=\"black\")\n",
    "    circle2 = Circle(C2, r, fill=False, color=\"black\")\n",
    "    ax.add_patch(circle1)\n",
    "    ax.add_patch(circle2)"
   ]
  },
  {
   "cell_type": "code",
   "execution_count": null,
   "metadata": {},
   "outputs": [],
   "source": [
    "figs[\"tmp\"] = plt.subplots()\n",
    "up.plot_x(model, data, figs[\"tmp\"][1])\n",
    "make_circle(2.15, *figs[\"tmp\"])"
   ]
  },
  {
   "cell_type": "code",
   "execution_count": null,
   "metadata": {},
   "outputs": [],
   "source": [
    "figs[\"tmp\"] = plt.subplots()\n",
    "up.plot_vocabulary(model, z_meshgrid, *figs[\"tmp\"], [\"all\"])\n",
    "up.plot_x(model, data, figs[\"tmp\"][1])"
   ]
  }
 ],
 "metadata": {
  "kernelspec": {
   "display_name": "pytorch",
   "language": "python",
   "name": "python3"
  },
  "language_info": {
   "codemirror_mode": {
    "name": "ipython",
    "version": 3
   },
   "file_extension": ".py",
   "mimetype": "text/x-python",
   "name": "python",
   "nbconvert_exporter": "python",
   "pygments_lexer": "ipython3",
   "version": "3.12.2"
  }
 },
 "nbformat": 4,
 "nbformat_minor": 2
}
